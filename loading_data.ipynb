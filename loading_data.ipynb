{
 "cells": [
  {
   "cell_type": "code",
   "execution_count": 1,
   "metadata": {},
   "outputs": [
    {
     "name": "stdout",
     "output_type": "stream",
     "text": [
      "('3C3CFFGE4E', 'Yakima', 'Yakima', 'WA', '98902.0', 2014, 'FIAT', '500', 'Battery Electric Vehicle (BEV)', 'Clean Alternative Fuel Vehicle Eligible', 87, 0.0, '14.0', '1593721', 'POINT (-120.524012 46.5973939)', 'PACIFICORP', '53077000700.0')\n",
      "('5YJXCBE40H', 'Thurston', 'Olympia', 'WA', '98513.0', 2017, 'TESLA', 'MODEL X', 'Battery Electric Vehicle (BEV)', 'Clean Alternative Fuel Vehicle Eligible', 200, 0.0, '2.0', '257167501', 'POINT (-122.817545 46.98876)', 'PUGET SOUND ENERGY INC', '53067012331.0')\n",
      "('3MW39FS03P', 'King', 'Renton', 'WA', '98058.0', 2023, 'BMW', '330E', 'Plug-in Hybrid Electric Vehicle (PHEV)', 'Not eligible due to low battery range', 20, 0.0, '11.0', '224071816', 'POINT (-122.1298876 47.4451257)', 'PUGET SOUND ENERGY INC||CITY OF TACOMA - (WA)', '53033025803.0')\n",
      "('7PDSGABA8P', 'Snohomish', 'Bothell', 'WA', '98012.0', 2023, 'RIVIAN', 'R1S', 'Battery Electric Vehicle (BEV)', 'Eligibility unknown as battery range has not been researched', 0, 0.0, '21.0', '260084653', 'POINT (-122.1873 47.820245)', 'PUGET SOUND ENERGY INC', '53061051927.0')\n",
      "('5YJ3E1EB8L', 'King', 'Kent', 'WA', '98031.0', 2020, 'TESLA', 'MODEL 3', 'Battery Electric Vehicle (BEV)', 'Clean Alternative Fuel Vehicle Eligible', 322, 0.0, '33.0', '253771913', 'POINT (-122.2012521 47.3931814)', 'PUGET SOUND ENERGY INC||CITY OF TACOMA - (WA)', '53033029305.0')\n"
     ]
    }
   ],
   "source": [
    "import mysql.connector\n",
    "import pandas as pd\n",
    "\n",
    "# Establish Connection\n",
    "conn = mysql.connector.connect(\n",
    "    host=\"localhost\",\n",
    "    user=\"root\",\n",
    "    password=\"CARE.ABHI\",\n",
    "    database=\"ev\"\n",
    ")\n",
    "cursor = conn.cursor()\n",
    "\n",
    "# Step 1: Create Table\n",
    "create_table_query = \"\"\"\n",
    "CREATE TABLE IF NOT EXISTS electric_vehicles (\n",
    "    VIN VARCHAR(20),\n",
    "    County VARCHAR(100),\n",
    "    City VARCHAR(100),\n",
    "    State VARCHAR(50),\n",
    "    Postal_Code VARCHAR(10),\n",
    "    Model_Year INT,\n",
    "    Make VARCHAR(50),\n",
    "    Model VARCHAR(100),\n",
    "    Electric_Vehicle_Type VARCHAR(100),\n",
    "    CAFV_Eligibility VARCHAR(100),\n",
    "    Electric_Range INT,\n",
    "    Base_MSRP FLOAT,\n",
    "    Legislative_District VARCHAR(50),\n",
    "    DOL_Vehicle_ID VARCHAR(50),\n",
    "    Vehicle_Location VARCHAR(255),\n",
    "    Electric_Utility VARCHAR(255),\n",
    "    Census_Tract VARCHAR(50)\n",
    ");\n",
    "\"\"\"\n",
    "cursor.execute(create_table_query)\n",
    "conn.commit()\n",
    "\n",
    "# Step 2: Load CSV Data\n",
    "df = pd.read_csv(\"Electric_Vehicle_Population_Data.csv\")  # Replace with your actual CSV file\n",
    "\n",
    "# Step 3: Insert Data\n",
    "insert_query = \"\"\"\n",
    "INSERT INTO electric_vehicles \n",
    "(VIN, County, City, State, Postal_Code, Model_Year, Make, Model, Electric_Vehicle_Type, \n",
    "CAFV_Eligibility, Electric_Range, Base_MSRP, Legislative_District, DOL_Vehicle_ID, \n",
    "Vehicle_Location, Electric_Utility, Census_Tract) \n",
    "VALUES (%s, %s, %s, %s, %s, %s, %s, %s, %s, %s, %s, %s, %s, %s, %s, %s, %s)\n",
    "\"\"\"\n",
    "\n",
    "for _, row in df.iterrows():\n",
    "    cursor.execute(insert_query, tuple(row))\n",
    "\n",
    "conn.commit()  # Save changes\n",
    "\n",
    "# Step 4: Verify Data\n",
    "cursor.execute(\"SELECT * FROM electric_vehicles LIMIT 5\")\n",
    "for row in cursor.fetchall():\n",
    "    print(row)\n",
    "\n",
    "# Close connection\n",
    "cursor.close()\n",
    "conn.close()\n"
   ]
  }
 ],
 "metadata": {
  "kernelspec": {
   "display_name": "Python 3",
   "language": "python",
   "name": "python3"
  },
  "language_info": {
   "codemirror_mode": {
    "name": "ipython",
    "version": 3
   },
   "file_extension": ".py",
   "mimetype": "text/x-python",
   "name": "python",
   "nbconvert_exporter": "python",
   "pygments_lexer": "ipython3",
   "version": "3.12.0"
  }
 },
 "nbformat": 4,
 "nbformat_minor": 2
}
